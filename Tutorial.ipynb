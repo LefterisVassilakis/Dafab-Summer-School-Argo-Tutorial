{
 "cells": [
  {
   "cell_type": "code",
   "execution_count": null,
   "id": "df9ca0d7-7bfb-4ca4-ac17-29468726c6a0",
   "metadata": {},
   "outputs": [],
   "source": [
    "!pip install rasterio matplotlib"
   ]
  },
  {
   "cell_type": "code",
   "execution_count": null,
   "id": "62891250-8864-4261-a1dc-dee561519948",
   "metadata": {},
   "outputs": [],
   "source": [
    "patch_name = \"patch1\""
   ]
  },
  {
   "cell_type": "code",
   "execution_count": null,
   "id": "06f91750-e5ab-4090-9fc2-ebdb8408cc95",
   "metadata": {},
   "outputs": [],
   "source": [
    "import rasterio\n",
    "import numpy as np\n",
    "import sys\n",
    "\n",
    "sys.argv = [\"\", \"/files/private/tutorial/tiffs/\" + patch_name + \".tiff\", \"/files/private/tutorial/tiffs/ndvi.tiff\"]\n",
    "\n",
    "input_file = sys.argv[1]\n",
    "output_file = sys.argv[2]\n",
    "\n",
    "# Open the multi-band TIFF\n",
    "with rasterio.open(input_file) as src:\n",
    "    red = src.read(1).astype(float)\n",
    "    try:\n",
    "        nir = src.read(2).astype(float)\n",
    "    except IndexError:\n",
    "        print(\"Band 2 not found, using Red as NIR for tutorial\")\n",
    "        nir = red.copy()\n",
    "    profile = src.profile\n",
    "\n",
    "# Scale\n",
    "red = red / 10000.0\n",
    "nir = nir / 10000.0\n",
    "\n",
    "# Compute NDVI\n",
    "ndvi = (nir - red) / (nir + red + 1e-6)\n",
    "\n",
    "# Save NDVI GeoTIFF\n",
    "profile.update(dtype=rasterio.float32, count=1)\n",
    "with rasterio.open(output_file, \"w\", **profile) as dst:\n",
    "    dst.write(ndvi.astype(rasterio.float32), 1)\n",
    "\n",
    "print(f\"NDVI saved to {output_file}\")"
   ]
  },
  {
   "cell_type": "code",
   "execution_count": null,
   "id": "13f8a83c-3fc9-484b-bc87-45283be6d670",
   "metadata": {},
   "outputs": [],
   "source": [
    "import rasterio\n",
    "import numpy as np\n",
    "import sys\n",
    "\n",
    "sys.argv = [\"\", \"/files/private/tutorial/tiffs/ndvi.tiff\", \"0.7\", \"/files/private/tutorial/tiffs/vegetation.tiff\"]\n",
    "\n",
    "input_file = sys.argv[1]\n",
    "threshold = sys.argv[2]\n",
    "output_file = sys.argv[3]\n",
    "\n",
    "# Open NVDI file\n",
    "with rasterio.open(input_file) as src:\n",
    "    ndvi = src.read(1)\n",
    "    profile = src.profile\n",
    "\n",
    "# Compute mask\n",
    "threshold = float(threshold)\n",
    "classified = np.where(ndvi > threshold, 1, 0)\n",
    "\n",
    "# Save make GeoTiff\n",
    "profile.update(dtype=rasterio.uint8, count=1)\n",
    "with rasterio.open(output_file, \"w\", **profile) as dst:\n",
    "    dst.write(classified.astype(np.uint8), 1)"
   ]
  },
  {
   "cell_type": "code",
   "execution_count": null,
   "id": "6542418a-8785-4cb7-9d39-7edb1314d505",
   "metadata": {},
   "outputs": [],
   "source": [
    "import rasterio\n",
    "import numpy as np\n",
    "import matplotlib.pyplot as plt\n",
    "import sys\n",
    "\n",
    "sys.argv = [\"\", \"/files/private/tutorial/tiffs/ndvi.tiff\", \"/files/private/tutorial/tiffs/vegetation.tiff\", \"/files/private/tutorial/plots/plot.png\"]\n",
    "\n",
    "ndvi_file = sys.argv[1]\n",
    "vegetation_file = sys.argv[2]\n",
    "output_plot = sys.argv[3]\n",
    "\n",
    "# Read NDVI file\n",
    "with rasterio.open(ndvi_file) as src:\n",
    "    ndvi = src.read(1)\n",
    "\n",
    "# Read vegetation mask\n",
    "with rasterio.open(vegetation_file) as src:\n",
    "    veg_mask = src.read(1)\n",
    "\n",
    "# Compute percentage\n",
    "veg_percent = (veg_mask == 1).sum() / veg_mask.size * 100\n",
    "print(f\"Vegetation covers {veg_percent:.2f}% of the patch\")\n",
    "\n",
    "ndvi *= 0.3 + 0.7 * veg_mask\n",
    "\n",
    "# Plot\n",
    "plt.imshow(ndvi, cmap='Greens', vmin=-0.1, vmax=1.0)\n",
    "plt.title(f\"Vegetation map ({veg_percent:.2f}%)\")\n",
    "plt.colorbar(label='NDVI')\n",
    "plt.savefig(output_plot)\n",
    "plt.show()\n",
    "plt.close()\n",
    "print(f\"Plot saved to {output_plot}\")"
   ]
  }
 ],
 "metadata": {
  "kernelspec": {
   "display_name": "Python 3 (ipykernel)",
   "language": "python",
   "name": "python3"
  },
  "language_info": {
   "codemirror_mode": {
    "name": "ipython",
    "version": 3
   },
   "file_extension": ".py",
   "mimetype": "text/x-python",
   "name": "python",
   "nbconvert_exporter": "python",
   "pygments_lexer": "ipython3",
   "version": "3.12.8"
  }
 },
 "nbformat": 4,
 "nbformat_minor": 5
}
