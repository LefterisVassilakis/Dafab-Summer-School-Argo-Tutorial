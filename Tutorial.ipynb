{
 "cells": [
  {
   "cell_type": "code",
   "execution_count": null,
   "id": "bb28d4c3-27c2-4d88-b1ea-d0f8a14f637d",
   "metadata": {},
   "outputs": [],
   "source": [
    "!pip install rasterio matplotlib"
   ]
  },
  {
   "cell_type": "code",
   "execution_count": 132,
   "id": "b6dbf57e-8aa7-457f-94fc-436e2aef3160",
   "metadata": {},
   "outputs": [],
   "source": [
    "patch_name = \"patch1\""
   ]
  },
  {
   "cell_type": "code",
   "execution_count": null,
   "id": "4566572b-b48a-4ff9-a99b-0ca4145970cd",
   "metadata": {},
   "outputs": [],
   "source": [
    "import rasterio\n",
    "import numpy as np\n",
    "import sys\n",
    "\n",
    "sys.argv = [\"\", \"/files/private/tutorial/tiffs/\" + patch_name + \".tiff\", \"/files/private/tutorial/tiffs/ndvi.tiff\"]\n",
    "\n",
    "input_file = sys.argv[1]\n",
    "output_file = sys.argv[2]\n",
    "\n",
    "# Open the multi-band TIFF\n",
    "with rasterio.open(input_file) as src:\n",
    "    red = src.read(1).astype(float)\n",
    "    try:\n",
    "        nir = src.read(2).astype(float)\n",
    "    except IndexError:\n",
    "        print(\"Band 2 not found, using Red as NIR for tutorial\")\n",
    "        nir = red.copy()\n",
    "    profile = src.profile\n",
    "\n",
    "# Scale\n",
    "red = red / 10000.0\n",
    "nir = nir / 10000.0\n",
    "\n",
    "# Compute NDVI\n",
    "ndvi = (nir - red) / (nir + red + 1e-6)\n",
    "\n",
    "# Save NDVI GeoTIFF\n",
    "profile.update(dtype=rasterio.float32, count=1)\n",
    "with rasterio.open(output_file, \"w\", **profile) as dst:\n",
    "    dst.write(ndvi.astype(rasterio.float32), 1)\n",
    "\n",
    "print(f\"NDVI saved to {output_file}\")"
   ]
  },
  {
   "cell_type": "code",
   "execution_count": 136,
   "id": "cad56f45-7f0e-4f6d-a5c2-f3e709fcce3c",
   "metadata": {},
   "outputs": [],
   "source": [
    "import rasterio\n",
    "import numpy as np\n",
    "import sys\n",
    "\n",
    "sys.argv = [\"\", \"/files/private/tutorial/tiffs/ndvi.tiff\", \"/files/private/tutorial/tiffs/vegetation.tiff\"]\n",
    "\n",
    "input_file = sys.argv[1]\n",
    "output_file = sys.argv[2]\n",
    "\n",
    "# Open NVDI file\n",
    "with rasterio.open(input_file) as src:\n",
    "    ndvi = src.read(1)\n",
    "    profile = src.profile\n",
    "\n",
    "# Compute mask\n",
    "classified = np.where(ndvi > 0.6, 1, 0)\n",
    "\n",
    "# Save make GeoTiff\n",
    "profile.update(dtype=rasterio.uint8, count=1)\n",
    "with rasterio.open(output_file, \"w\", **profile) as dst:\n",
    "    dst.write(classified.astype(np.uint8), 1)"
   ]
  },
  {
   "cell_type": "code",
   "execution_count": null,
   "id": "78d7dec9-6445-4964-a049-8ad2f9beed3f",
   "metadata": {},
   "outputs": [],
   "source": [
    "import rasterio\n",
    "import numpy as np\n",
    "import matplotlib.pyplot as plt\n",
    "import sys\n",
    "\n",
    "sys.argv = [\"\", \"/files/private/tutorial/tiffs/ndvi.tiff\", \"/files/private/tutorial/tiffs/vegetation.tiff\", \"/files/private/tutorial/plots/plot.png\"]\n",
    "\n",
    "ndvi_file = sys.argv[1]\n",
    "vegetation_file = sys.argv[2]\n",
    "output_plot = sys.argv[3]\n",
    "\n",
    "# Read NDVI file\n",
    "with rasterio.open(ndvi_file) as src:\n",
    "    ndvi = src.read(1)\n",
    "\n",
    "# Read vegetation mask\n",
    "with rasterio.open(vegetation_file) as src:\n",
    "    veg_mask = src.read(1)\n",
    "\n",
    "# Compute percentage\n",
    "veg_percent = (veg_mask == 1).sum() / veg_mask.size * 100\n",
    "print(f\"Vegetation covers {veg_percent:.2f}% of the patch\")\n",
    "\n",
    "ndvi *= 0.3 + 0.7 * veg_mask\n",
    "\n",
    "# Plot\n",
    "plt.imshow(ndvi, cmap='Greens', vmin=-0.1, vmax=1.0)\n",
    "plt.title(f\"Vegetation map ({veg_percent:.2f}%)\")\n",
    "plt.colorbar(label='NDVI')\n",
    "plt.savefig(output_plot)\n",
    "plt.show()\n",
    "plt.close()\n",
    "print(f\"Plot saved to {output_plot}\")"
   ]
  }
 ],
 "metadata": {
  "kernelspec": {
   "display_name": "Python 3 (ipykernel)",
   "language": "python",
   "name": "python3"
  },
  "language_info": {
   "codemirror_mode": {
    "name": "ipython",
    "version": 3
   },
   "file_extension": ".py",
   "mimetype": "text/x-python",
   "name": "python",
   "nbconvert_exporter": "python",
   "pygments_lexer": "ipython3",
   "version": "3.12.8"
  }
 },
 "nbformat": 4,
 "nbformat_minor": 5
}
